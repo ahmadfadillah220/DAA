#!/usr/bin/env python
# coding: utf-8

# In[1]:


import numpy as np


# In[2]:


print(np.__version__)


# # Big O Notation
# ## Constant time(O(1)) complexity
# If an algorithm takes the same amount of time to run, independent of the size of
# the input data, it is said to run in constant time. It is represented by O(1)

# In[4]:


def getFirst(myList):
    return myList[0]


# In[5]:


getFirst([1,2,3])


# # Linear time (O(n)) complexity
# An algorithm is said to have a complexity of linear time, represented by O(n), if the execution time is directly proprotional to the size of the input

# In[6]:


def getSum(myList):
    sum = 0
    for item in myList:
        sum = sum+item
    return sum


# In[7]:


getSum([1,2,3,4])


# # Quadratic time (O(n^2)) complexity
# 

# In[8]:


def getSum(myList):
    sum = 0
    for row in myList:
        for item in row:
            sum += item
    return sum


# In[9]:


getSum([[1,2,5],[3,4,7]])


# # Logarithmic time (O(logn)) complexity

# In[10]:


def searchBinary(myList,item):
    first = 0
    last = len(myList)-1
    foundFlag = False
    while( first<= last and not foundFlag):
        mid = (first + last)//2
        if myList[mid] == item :
            foundFlag = True
        else :
            if item < myList[mid]:
                last = mid - 1
            else : 
                first = mid + 1
    return foundFlag


# In[11]:


searchBinary([8,9,10,100,1000,2000,3000], 10)


# In[12]:


searchBinary([8,9,10,100,1000,2000,3000], 5)


# In[ ]:




