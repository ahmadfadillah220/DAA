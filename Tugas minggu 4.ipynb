{
 "cells": [
  {
   "cell_type": "code",
   "execution_count": 1,
   "metadata": {},
   "outputs": [],
   "source": [
    "#         1\n",
    "#       /   \\\n",
    "#      2     3\n",
    "#    /       \\\n",
    "#   4---------5"
   ]
  },
  {
   "cell_type": "code",
   "execution_count": 2,
   "metadata": {},
   "outputs": [
    {
     "name": "stdout",
     "output_type": "stream",
     "text": [
      "{'1': ['2', '3'], '2': ['1', '4'], '3': ['1', '5'], '4': ['2', '5'], '5': ['3', '4']}\n"
     ]
    }
   ],
   "source": [
    "graph = { \"1\" : [\"2\",\"3\"],\n",
    "          \"2\" : [\"1\", \"4\"],\n",
    "          \"3\" : [\"1\", \"5\"],\n",
    "          \"4\" : [\"2\", \"5\"],\n",
    "          \"5\" : [\"3\", \"4\"]\n",
    "         }\n",
    "#print the graph\n",
    "print(graph)"
   ]
  },
  {
   "cell_type": "code",
   "execution_count": 4,
   "metadata": {},
   "outputs": [
    {
     "name": "stdout",
     "output_type": "stream",
     "text": [
      "['1', '2', '3', '4', '5']\n"
     ]
    }
   ],
   "source": [
    "class graph:\n",
    "    def __init__(self,gdict=None):\n",
    "        if gdict is None:\n",
    "            gdict = []\n",
    "        self.gdict = gdict\n",
    "\n",
    "#Get the keys of the dictionary\n",
    "    def getVertices(self):\n",
    "        return list(self.gdict.keys())\n",
    "\n",
    "graph_elements = { \"1\" : [\"2\",\"3\"],\n",
    "              \"2\" : [\"1\", \"4\"],\n",
    "              \"3\" : [\"1\", \"5\"],\n",
    "              \"4\" : [\"2\", \"5\"],\n",
    "              \"5\" : [\"3\", \"4\"]\n",
    "                 }\n",
    "g = graph(graph_elements)\n",
    "\n",
    "print(g.getVertices())"
   ]
  },
  {
   "cell_type": "code",
   "execution_count": 6,
   "metadata": {},
   "outputs": [
    {
     "name": "stdout",
     "output_type": "stream",
     "text": [
      "[{'2', '1'}, {'1', '3'}, {'2', '4'}, {'5', '3'}, {'5', '4'}]\n"
     ]
    }
   ],
   "source": [
    "class graph:\n",
    "    def __init__(self,gdict=None):\n",
    "        if gdict is None:\n",
    "            gdict = {}\n",
    "        self.gdict = gdict\n",
    "    \n",
    "    def edges(self):\n",
    "        return self.findedges()\n",
    "\n",
    "# find the distinct List of edges\n",
    "    def findedges(self):\n",
    "        edgename = []\n",
    "        for vrtx in self.gdict:\n",
    "            for nxtvrtx in self.gdict[vrtx]:\n",
    "                if{nxtvrtx, vrtx} not in edgename:\n",
    "                    edgename.append({vrtx, nxtvrtx})\n",
    "        return edgename\n",
    "\n",
    "#Create the dictionary with graph a elements\n",
    "graph_elements = { \"1\" : [\"2\",\"3\"],\n",
    "              \"2\" : [\"1\", \"4\"],\n",
    "              \"3\" : [\"1\", \"5\"],\n",
    "              \"4\" : [\"2\", \"5\"],\n",
    "              \"5\" : [\"3\", \"4\"]\n",
    "                 }\n",
    "g = graph(graph_elements)\n",
    "\n",
    "print(g.edges())"
   ]
  },
  {
   "cell_type": "code",
   "execution_count": 9,
   "metadata": {},
   "outputs": [
    {
     "name": "stdout",
     "output_type": "stream",
     "text": [
      "['1', '2', '3', '4', '5', '6']\n"
     ]
    }
   ],
   "source": [
    "class graph:\n",
    "    def __init__(self,gdict=None):\n",
    "        if gdict is None:\n",
    "            gdict = {}\n",
    "        self.gdict = gdict\n",
    "    \n",
    "    def getVertices(self):\n",
    "        return list(self.gdict.keys())\n",
    "\n",
    "    #Add the vertex as a key\n",
    "    def addVertex(self, vrtx):\n",
    "        if vrtx not in self.gdict:\n",
    "            self.gdict[vrtx] = []\n",
    "\n",
    "graph_elements = { \"1\" : [\"2\",\"3\"],\n",
    "              \"2\" : [\"1\", \"4\"],\n",
    "              \"3\" : [\"1\", \"5\"],\n",
    "              \"4\" : [\"2\", \"5\"],\n",
    "              \"5\" : [\"3\", \"4\"]\n",
    "                 }\n",
    "\n",
    "g = graph(graph_elements)\n",
    "\n",
    "g.addVertex(\"6\")\n",
    "\n",
    "print(g.getVertices())"
   ]
  },
  {
   "cell_type": "code",
   "execution_count": 10,
   "metadata": {},
   "outputs": [],
   "source": [
    "class graph:\n",
    "    def __init__(self,gdict=None):\n",
    "        if gdict is None:\n",
    "            gdict = {}\n",
    "        self.gdict = gdict\n",
    "    \n",
    "    def edges(self):\n",
    "        return self.findedges()\n",
    "    \n",
    "# Add the new edge\n",
    "\n",
    "    def AddEdge(self, edge):\n",
    "        edge = set(edge)\n",
    "        (vrtx1, vrtx2)= tuple(edge)\n",
    "        if vrtx1 in self.gdict:\n",
    "            self.gdict[vrtx1].append(vrtx2)\n",
    "        else:\n",
    "            self.gdict[vrtx] = [vrtx2]\n",
    "\n",
    "# find the distinct List of edges\n",
    "    def findedges(self):\n",
    "        edgename = []\n",
    "        for vrtx in self.gdict:\n",
    "            for nxtvrtx in self.gdict[vrtx]:\n",
    "                if{nxtvrtx, vrtx} not in edgename:\n",
    "                    edgename.append({vrtx, nxtvrtx})\n",
    "        return edgename\n",
    "    "
   ]
  },
  {
   "cell_type": "code",
   "execution_count": 13,
   "metadata": {},
   "outputs": [
    {
     "name": "stdout",
     "output_type": "stream",
     "text": [
      "[{'2', '1'}, {'1', '3'}, {'1', '6'}, {'2', '4'}, {'2', '6'}, {'5', '3'}, {'5', '4'}]\n"
     ]
    }
   ],
   "source": [
    "#create the dictionary with a graph elements\n",
    "\n",
    "graph_elements = { \"1\" : [\"2\",\"3\"],\n",
    "              \"2\" : [\"1\", \"4\"],\n",
    "              \"3\" : [\"1\", \"5\"],\n",
    "              \"4\" : [\"2\", \"5\"],\n",
    "              \"5\" : [\"3\", \"4\"]\n",
    "                 }\n",
    "g = graph(graph_elements)\n",
    "g.AddEdge({'6','1'})\n",
    "g.AddEdge({'2','6'})\n",
    "print(g.edges())"
   ]
  },
  {
   "cell_type": "code",
   "execution_count": null,
   "metadata": {},
   "outputs": [],
   "source": []
  }
 ],
 "metadata": {
  "kernelspec": {
   "display_name": "Python 3",
   "language": "python",
   "name": "python3"
  },
  "language_info": {
   "codemirror_mode": {
    "name": "ipython",
    "version": 3
   },
   "file_extension": ".py",
   "mimetype": "text/x-python",
   "name": "python",
   "nbconvert_exporter": "python",
   "pygments_lexer": "ipython3",
   "version": "3.8.3"
  }
 },
 "nbformat": 4,
 "nbformat_minor": 4
}
